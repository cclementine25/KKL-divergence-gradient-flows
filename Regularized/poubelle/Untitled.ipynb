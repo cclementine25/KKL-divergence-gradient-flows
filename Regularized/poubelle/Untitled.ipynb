{
 "cells": [
  {
   "cell_type": "code",
   "execution_count": 1,
   "id": "bfc93b41",
   "metadata": {},
   "outputs": [
    {
     "name": "stdout",
     "output_type": "stream",
     "text": [
      "Collecting git+https://github.com/pierreglaser/kale-flow.git\n",
      "  Cloning https://github.com/pierreglaser/kale-flow.git to c:\\users\\cleme\\appdata\\local\\temp\\pip-req-build-6bvcpjsg\n",
      "  Resolved https://github.com/pierreglaser/kale-flow.git to commit 4d12315d0490938cf0b4b2977c71fb7721e8ec6f\n"
     ]
    },
    {
     "name": "stderr",
     "output_type": "stream",
     "text": [
      "  Running command git clone --filter=blob:none --quiet https://github.com/pierreglaser/kale-flow.git 'C:\\Users\\cleme\\AppData\\Local\\Temp\\pip-req-build-6bvcpjsg'\n",
      "ERROR: git+https://github.com/pierreglaser/kale-flow.git does not appear to be a Python project: neither 'setup.py' nor 'pyproject.toml' found.\n"
     ]
    }
   ],
   "source": [
    "!pip install git+https://github.com/pierreglaser/kale-flow.git"
   ]
  }
 ],
 "metadata": {
  "kernelspec": {
   "display_name": "Python 3 (ipykernel)",
   "language": "python",
   "name": "python3"
  },
  "language_info": {
   "codemirror_mode": {
    "name": "ipython",
    "version": 3
   },
   "file_extension": ".py",
   "mimetype": "text/x-python",
   "name": "python",
   "nbconvert_exporter": "python",
   "pygments_lexer": "ipython3",
   "version": "3.11.5"
  }
 },
 "nbformat": 4,
 "nbformat_minor": 5
}
