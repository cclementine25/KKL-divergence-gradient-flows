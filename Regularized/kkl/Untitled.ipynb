{
 "cells": [
  {
   "cell_type": "code",
   "execution_count": 29,
   "id": "67e5af23",
   "metadata": {},
   "outputs": [],
   "source": [
    "import numpy as np\n",
    "import scipy.stats as scs\n",
    "import matplotlib.pyplot as plt\n",
    "import scipy.optimize as sco \n",
    "\n",
    "import kernels as kl"
   ]
  },
  {
   "cell_type": "code",
   "execution_count": 49,
   "id": "afccc6fe",
   "metadata": {},
   "outputs": [],
   "source": [
    "def k_gauss(x,y,s):\n",
    "    return np.exp(-np.linalg.norm(x-y)**2/s**2)"
   ]
  },
  {
   "cell_type": "code",
   "execution_count": 57,
   "id": "fd696bce",
   "metadata": {},
   "outputs": [],
   "source": [
    "alpha = 0.1\n",
    "\n",
    "mux = np.array([5,5])\n",
    "Lx = np.random.randn(2,2)\n",
    "Sigmax = Lx @ Lx.transpose()\n",
    "muy = np.array([0,0])\n",
    "Ly =  np.random.randn(2,2)\n",
    "Sigmay = Ly @ Ly.transpose() \n",
    "\n",
    "n = 50\n",
    "m = 50\n",
    "\n",
    "y = scs.multivariate_normal.rvs(muy,Sigmay,m)\n",
    "x = scs.multivariate_normal.rvs(mux,Sigmax,n)\n",
    "\n",
    "\n",
    "sigma = 5\n",
    "k = lambda x,y :  kl.k_gauss(x,y,sigma)\n",
    "kk = lambda x,y : k_gauss(x, y, sigma)\n",
    "\n",
    "\n",
    "\n",
    "Ky = 1/m * k(y,y) \n",
    "Ly,V = np.linalg.eig(Ky)\n",
    "V = V.transpose()\n",
    "Ly = np.real(Ly)\n",
    "Packy = [Ky,Ly,V]"
   ]
  },
  {
   "cell_type": "code",
   "execution_count": 58,
   "id": "e93d9601",
   "metadata": {},
   "outputs": [],
   "source": [
    "def log_ou_0(t):\n",
    "    return np.where(t > 0, np.log(t), 0.)"
   ]
  },
  {
   "cell_type": "code",
   "execution_count": 75,
   "id": "09aff04b",
   "metadata": {},
   "outputs": [],
   "source": [
    "Kx = 1e-9 * np.identity(n) + 1/n * k(x,x)\n",
    "    \n",
    "\n",
    "Kxy = k(x,y) \n",
    "Lx,U = np.linalg.eig(Kx)\n",
    "U = np.real(U).T\n",
    "Lx = np.real(Lx)\n",
    "Trxy = 0\n",
    "\n",
    "K = 1e-9 * np.identity(n+m) + np.concatenate([np.concatenate([alpha * Kx, np.sqrt(alpha*(1-alpha)/(n*m)) *Kxy],axis = 1),np.concatenate([np.sqrt(alpha*(1-alpha)/(n*m)) *Kxy.transpose(),(1-alpha)* Ky],axis = 1)],axis = 0)\n",
    "Lz,W = np.linalg.eig(K)\n",
    "W = W.T\n",
    "\n",
    "A = np.concatenate([np.concatenate([1/alpha * np.identity(n), np.zeros((n,m))],axis = 1),np.concatenate([np.zeros((m,n)),np.zeros((m,m))],axis = 1)],axis = 0)\n",
    "\n",
    "Trxx = np.sum(Lx * log_ou_0(Lx))\n",
    "Trxy = np.trace(A @ W.T @ np.diag(Lz * log_ou_0(Lz)) @ W)"
   ]
  },
  {
   "cell_type": "code",
   "execution_count": 76,
   "id": "3d25b29f",
   "metadata": {},
   "outputs": [],
   "source": [
    "M = np.zeros((n+m,n+m))\n",
    "for j in range(n+m):\n",
    "    M = M - np.linalg.norm(W[j][:n]**2)/(Lz[j]**2) * W[j][:,None] @ W[j][None,:]\n",
    "    for l in range(n+m):\n",
    "        if k != j:\n",
    "            M = M + (np.log(Lz[j])/(Lz[l]-Lz[j] + 1e-9)**2 + 1/(Lz[j]*(Lz[l]-Lz[j] + 1e-9))) * np.dot(W[j][:n],W[l][:n]) * (W[j][:,None] @ W[l][None,:])\n",
    "        #print(\"e\")\n",
    "w1 = x[1]\n",
    "w2 = x[2]\n",
    "\n",
    "T1 = np.concatenate([np.sqrt(alpha/n) * np.array([kk(w1,x[i]) for i in range(n)]),np.sqrt((1-alpha)/m) * np.array([kk(w1,y[j]) for j in range(m)])])\n",
    "T2 = np.concatenate([np.sqrt(alpha/n) * np.array([kk(w2,x[i]) for i in range(n)]),np.sqrt((1-alpha)/m) * np.array([kk(w2,y[j]) for j in range(m)])])"
   ]
  },
  {
   "cell_type": "code",
   "execution_count": null,
   "id": "3d1e4d56",
   "metadata": {},
   "outputs": [],
   "source": []
  },
  {
   "cell_type": "code",
   "execution_count": 77,
   "id": "5d9eb230",
   "metadata": {},
   "outputs": [],
   "source": [
    "S_inv = np.linalg.inv(Kx)"
   ]
  },
  {
   "cell_type": "code",
   "execution_count": 81,
   "id": "0ff39399",
   "metadata": {},
   "outputs": [
    {
     "name": "stdout",
     "output_type": "stream",
     "text": [
      "(-2715106043972277.5-1.9936083579979782j)\n",
      "33005543433.324207\n"
     ]
    }
   ],
   "source": [
    "print(alpha*kk(w1,w2) * T1 @ M @ T1)\n",
    "print(np.trace(S_inv))"
   ]
  },
  {
   "cell_type": "code",
   "execution_count": null,
   "id": "308293e9",
   "metadata": {},
   "outputs": [],
   "source": []
  }
 ],
 "metadata": {
  "kernelspec": {
   "display_name": "Python 3 (ipykernel)",
   "language": "python",
   "name": "python3"
  },
  "language_info": {
   "codemirror_mode": {
    "name": "ipython",
    "version": 3
   },
   "file_extension": ".py",
   "mimetype": "text/x-python",
   "name": "python",
   "nbconvert_exporter": "python",
   "pygments_lexer": "ipython3",
   "version": "3.11.5"
  }
 },
 "nbformat": 4,
 "nbformat_minor": 5
}
