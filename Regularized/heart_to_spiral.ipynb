{
 "cells": [
  {
   "cell_type": "code",
   "execution_count": 1,
   "id": "34c7cc79",
   "metadata": {},
   "outputs": [],
   "source": [
    "import pandas as pd\n",
    "import torch\n",
    "import numpy as np\n",
    "%matplotlib inline"
   ]
  },
  {
   "cell_type": "code",
   "execution_count": 2,
   "id": "ba3ada19",
   "metadata": {},
   "outputs": [],
   "source": [
    "from kale_flow_master.kernel_wasserstein_flows.kernel_wasserstein_flows.gradient_flow import gradient_flow\n",
    "from kale_flow_master.kernel_wasserstein_flows.kernel_wasserstein_flows.kernels import gaussian_kernel\n",
    "from kale_flow_master.kernel_wasserstein_flows.kernel_wasserstein_flows.kale import kale_penalized, kale_penalized_first_variation"
   ]
  },
  {
   "cell_type": "code",
   "execution_count": 3,
   "id": "ab413a94",
   "metadata": {},
   "outputs": [],
   "source": [
    "import logging\n",
    "\n",
    "from kale_flow_master.kernel_wasserstein_flows.kernel_wasserstein_flows.config import LOG_LEVELS\n",
    "LOG_LEVELS['gradient_flow'] = logging.INFO"
   ]
  },
  {
   "cell_type": "code",
   "execution_count": 4,
   "id": "52ca4f6a",
   "metadata": {},
   "outputs": [],
   "source": [
    "results = {}"
   ]
  },
  {
   "cell_type": "code",
   "execution_count": 25,
   "id": "cd8a93ec",
   "metadata": {},
   "outputs": [],
   "source": [
    "from PIL import Image\n",
    "def _load_img(fn='images/heart.png', size=200, max_samples=None):\n",
    "    r\"\"\"Returns x,y of black pixels (between -1 and 1)\n",
    "    \"\"\"\n",
    "    pic = np.array(Image.open(fn).resize((size,size)).convert('L'))\n",
    "    y_inv, x = np.nonzero(pic<=128)\n",
    "    y = size - y_inv - 1\n",
    "    if max_samples and x.size > max_samples:\n",
    "        ixsel = np.random.choice(x.size, max_samples, replace=False)\n",
    "        x, y = x[ixsel], y[ixsel]\n",
    "    return np.stack((x, y), 1) / size * 2 - 1\n",
    "\n",
    "def _get_shapes_data():\n",
    "    rs = np.random.RandomState(42)\n",
    "    X = _load_img('images/spiral3d.jpg')\n",
    "    X = X[rs.choice(len(X), 2000, replace=False)]\n",
    "\n",
    "    Y = _load_img('images/heart.png')\n",
    "    Y = Y[rs.choice(len(Y), 2000, replace=False)]\n",
    "\n",
    "    Y = torch.from_numpy(Y).float()\n",
    "    X = torch.from_numpy(X).float()\n",
    "    Y.requires_grad = True\n",
    "    return X, Y"
   ]
  },
  {
   "cell_type": "markdown",
   "id": "f5b62825",
   "metadata": {},
   "source": [
    "# KALE Flow"
   ]
  },
  {
   "cell_type": "code",
   "execution_count": 26,
   "id": "effdc8eb",
   "metadata": {},
   "outputs": [],
   "source": [
    "_gf_default_kwargs = dict(\n",
    "    # max_iter=100,\n",
    "    random_seed=20,\n",
    "    noise_level_callback=lambda x: 1e-20,\n",
    "    num_noisy_averages=1,\n",
    "    generator=_get_shapes_data,\n",
    "    generator_kwargs=dict(),\n",
    "    kernel=gaussian_kernel,\n",
    "    kernel_kwargs={'sigma': 0.01},\n",
    "    loss=kale_penalized,\n",
    "    loss_first_variation=kale_penalized_first_variation\n",
    ")\n",
    "\n",
    "_kale_default_kwargs={\n",
    "    \"inner_max_iter\": 800,\n",
    "    \"inner_tol\": 1e-8,\n",
    "    \"inner_a\": 0.4,\n",
    "    \"inner_b\": 0.8,\n",
    "    \"inplace\": False,\n",
    "    \"input_check\":True,\n",
    "    \"dual_gap_tol\": 5e-2,\n",
    "    # \"optimization_method\":\"newton\",\n",
    "    \"optimization_method\":\"cd\", \"optimizer_kwargs\": {\"dual_gap_tol\": 5e-2, \"buffer_size\": 1000, \"max_iter\": 20}, \"online\": True,\n",
    "}"
   ]
  },
  {
   "cell_type": "code",
   "execution_count": 27,
   "id": "24e73ba0",
   "metadata": {},
   "outputs": [
    {
     "name": "stderr",
     "output_type": "stream",
     "text": [
      " gradient_flow: X.requires_grad: False, Y.requires_grad: True\n",
      " gradient_flow: loss: 2.26e+00 grad_norm: 3.25e+03\n",
      " gradient_flow: loss: 3.74e-01 grad_norm: 1.44e+02\n",
      " gradient_flow: loss: 3.43e-01 grad_norm: 9.38e+01\n",
      " gradient_flow: loss: 3.25e-01 grad_norm: 7.60e+01\n",
      " gradient_flow: loss: 3.06e-01 grad_norm: 7.48e+01\n",
      " gradient_flow: loss: 2.91e-01 grad_norm: 6.60e+01\n",
      " gradient_flow: loss: 2.76e-01 grad_norm: 5.68e+01\n",
      " gradient_flow: loss: 2.61e-01 grad_norm: 5.74e+01\n",
      " gradient_flow: loss: 2.48e-01 grad_norm: 5.54e+01\n",
      " gradient_flow: loss: 2.38e-01 grad_norm: 5.07e+01\n",
      " gradient_flow: X.requires_grad: False, Y.requires_grad: True\n"
     ]
    },
    {
     "name": "stdout",
     "output_type": "stream",
     "text": [
      "total time 90.844s\n"
     ]
    },
    {
     "name": "stderr",
     "output_type": "stream",
     "text": [
      " gradient_flow: loss: 7.13e-03 grad_norm: 3.87e+00\n",
      " gradient_flow: loss: 1.68e-03 grad_norm: 1.75e+00\n",
      " gradient_flow: loss: 8.50e-04 grad_norm: 1.39e+00\n",
      " gradient_flow: loss: 5.49e-04 grad_norm: 1.25e+00\n",
      " gradient_flow: loss: 4.27e-04 grad_norm: 1.24e+00\n",
      " gradient_flow: loss: 3.66e-04 grad_norm: 1.21e+00\n",
      " gradient_flow: loss: 3.19e-04 grad_norm: 1.20e+00\n",
      " gradient_flow: loss: 2.55e-04 grad_norm: 1.08e+00\n",
      " gradient_flow: loss: 2.62e-04 grad_norm: 1.12e+00\n",
      " gradient_flow: loss: 2.05e-04 grad_norm: 1.02e+00\n"
     ]
    },
    {
     "name": "stdout",
     "output_type": "stream",
     "text": [
      "total time 83.410s\n"
     ]
    }
   ],
   "source": [
    "import time \n",
    "from kale_flow_master.kernel_wasserstein_flows.kernel_wasserstein_flows.kale import kale_penalized, kale_penalized_first_variation\n",
    "\n",
    "for max_iter, lr, _lambda_, exp_name in zip([100, 100], [0.001, 1], [0.001, 10000], ['kale_0001', 'kale_10000']):\n",
    "    # _lambda_ = 10000 amounts to MMD\n",
    "    X, Y = _get_shapes_data()\n",
    "    t0 = time.time()\n",
    "    args, (X, Y), (trajectories, records, loss_states) = gradient_flow(max_iter=max_iter, lr=lr, loss_kwargs={\"lambda_\": _lambda_, **_kale_default_kwargs}, **_gf_default_kwargs)\n",
    "    print(f'total time {time.time() - t0:.3f}s')\n",
    "    results[exp_name] = {'args': args, 'X': X, 'Y': Y, 'trajectories': trajectories, 'records': records, 'loss_states': loss_states }"
   ]
  },
  {
   "cell_type": "markdown",
   "id": "3764839a",
   "metadata": {},
   "source": [
    "# KKL Flow"
   ]
  },
  {
   "cell_type": "code",
   "execution_count": 28,
   "id": "b9f7229b",
   "metadata": {},
   "outputs": [],
   "source": [
    "import kkl.divergences as dv\n",
    "import kkl.kernels as kl\n",
    "import kkl.generate_y as gy \n",
    "import kkl.gradient_descent as gd\n",
    "import matplotlib.pyplot as plt\n",
    "\n",
    "import cProfile"
   ]
  },
  {
   "cell_type": "code",
   "execution_count": 29,
   "id": "c6c95d8e",
   "metadata": {},
   "outputs": [],
   "source": [
    "## PARAMETERS KKL ##\n",
    "alpha = 0.01\n",
    "\n",
    "## KERNEL ###\n",
    "sigma = 0.5\n",
    "k = lambda x,y :  kl.k_gauss(x,y,sigma)\n",
    "dk = lambda x,y : kl.dk_gauss(x, y,sigma)\n",
    "\n",
    "##DATA##\n",
    "y,x = _get_shapes_data()\n",
    "x = x.detach().numpy()\n",
    "y = y.detach().numpy()\n",
    "n = len(x)\n",
    "m = len(y)\n",
    "\n",
    "\n",
    "###### Ky ####\n",
    "Ky = 1/m * k(y,y) \n",
    "Ly,V = np.linalg.eig(Ky)\n",
    "V = V.transpose()\n",
    "Ly = np.real(Ly)\n",
    "Packy = [Ky,Ly,V]"
   ]
  },
  {
   "cell_type": "code",
   "execution_count": null,
   "id": "09a00d46",
   "metadata": {},
   "outputs": [
    {
     "name": "stdout",
     "output_type": "stream",
     "text": [
      "T = 0\n"
     ]
    }
   ],
   "source": [
    "import cProfile\n",
    "import time\n",
    "\n",
    "##############################\n",
    "######## PARAMETERS ##########\n",
    "##############################\n",
    "\n",
    "n = len(x)\n",
    "m = len(y)\n",
    "T = 100 # nombre d'itérations\n",
    "h = 0.02 # stepsize gradient descent\n",
    "eps = 0.0001\n",
    "alpha = 0.01\n",
    "\n",
    "\n",
    "#### DIVERGENCE ####\n",
    "x0 = x\n",
    "J = lambda x : dv.KKL(x, y, k, Packy, alpha) \n",
    "dJ = lambda x : dv.WGrad_KKL(x, y, k, dk, Packy, alpha, sigma) \n",
    "\n",
    "\n",
    "\n",
    "###########################################\n",
    "############ GRADIENT DESCENT #############\n",
    "###########################################\n",
    "\n",
    "\n",
    "t0 = time.time()\n",
    "X,l_J,Grad = gd.gradient_descent(J, dJ, x0, h, eps, T)\n",
    "#cProfile.run('gd.gradient_descent(J, dJ, x0, h, eps, T)')\n",
    "print(\"total time : \" + str(time.time()-t0))\n",
    "############################\n",
    "########## PLOTS ###########\n",
    "############################\n",
    "\n",
    "fig, axs = plt.subplots(5, 4, figsize=(20,20))\n",
    "for i in range(0,len(X)-1,T//20):\n",
    "    j = i//(T//20)\n",
    "    #axs[j//4,j%4].axis([-3,3.5,-4,1])\n",
    "    axs[j//4,j%4].scatter(y[:,0],y[:,1],color = \"orange\")\n",
    "    axs[j//4,j%4].scatter(X[i,:,0], X[i,:,1], color = \"blue\")\n",
    "    \n",
    "\n",
    "plt.figure()  \n",
    "#plt.axis([-3,3.5,-4,1])\n",
    "plt.scatter(y[:,0],y[:,1],color = \"orange\")  \n",
    "plt.scatter(X[-1,:,0], X[-1,:,1])\n",
    "plt.title(\"sigma = \" + str(sigma) + \", h = \" + str(h))\n",
    "\n",
    "\n",
    "\n",
    "\n",
    "plt.figure()    \n",
    "plt.plot(l_J)\n",
    "plt.title(r\"values of $KKL_{\\alpha}\")\n",
    "\n",
    "plt.figure()\n",
    "plt.plot(Grad)\n",
    "plt.title(r\"Values of the gradient of $KKL_{\\alpha}\")"
   ]
  },
  {
   "cell_type": "code",
   "execution_count": 24,
   "id": "5bb6a711",
   "metadata": {},
   "outputs": [
    {
     "data": {
      "text/plain": [
       "20"
      ]
     },
     "execution_count": 24,
     "metadata": {},
     "output_type": "execute_result"
    }
   ],
   "source": []
  },
  {
   "cell_type": "code",
   "execution_count": null,
   "id": "12ea975f",
   "metadata": {},
   "outputs": [],
   "source": []
  }
 ],
 "metadata": {
  "kernelspec": {
   "display_name": "Python 3 (ipykernel)",
   "language": "python",
   "name": "python3"
  },
  "language_info": {
   "codemirror_mode": {
    "name": "ipython",
    "version": 3
   },
   "file_extension": ".py",
   "mimetype": "text/x-python",
   "name": "python",
   "nbconvert_exporter": "python",
   "pygments_lexer": "ipython3",
   "version": "3.11.5"
  }
 },
 "nbformat": 4,
 "nbformat_minor": 5
}
